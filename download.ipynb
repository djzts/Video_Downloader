{
 "cells": [
  {
   "cell_type": "code",
   "execution_count": 1,
   "metadata": {},
   "outputs": [],
   "source": [
    "import os\n",
    "import ffmpeg\n",
    "#不管执行哪一个 下载程序都要执行这个框框的程序\n",
    "#执行方法 shift+回车/control+回车"
   ]
  },
  {
   "cell_type": "code",
   "execution_count": 7,
   "metadata": {},
   "outputs": [
    {
     "name": "stdout",
     "output_type": "stream",
     "text": [
      "ffmpeg -i https://dcs-vod.mp.lura.live/vod/p/1707800/prog.m3u8?i=i177619001-n945b8477-e8cf-401f-a6b6-e7300c1a6fee\"&\"anvtrid=fa6d1b70a9376a370762c32bd36bb18e -bsf:a aac_adtstoasc -vcodec copy -c copy -crf 50 video/0_.mp4\n"
     ]
    }
   ],
   "source": [
    "#video\n",
    "file_path = os.getcwd()+'/urls.txt'\n",
    "#不要改\n",
    "\n",
    "url_links = [line.rstrip('\\n') for line in open(file_path)]\n",
    "#不要改\n",
    "\n",
    "\n",
    "for num , url_link in enumerate(url_links):\n",
    "    #save_name = \"video/新片子-\"+str(num)+\".mp4\"\n",
    "    url_link = url_link.replace(\"&\",\"\\\"&\\\"\")\n",
    "    \n",
    "    save_name = \"video/\"+str(num)+\"_.mp4\"\n",
    "    \n",
    "    os.system('ffmpeg -i '+ url_link + ' -bsf:a aac_adtstoasc -vcodec copy -c copy -crf 50 ' + save_name)\n",
    "    \n",
    "    print('ffmpeg -i '+ url_link + ' -bsf:a aac_adtstoasc -vcodec copy -c copy -crf 50 ' + save_name)\n",
    "    #不要改（shift+回车）"
   ]
  },
  {
   "cell_type": "code",
   "execution_count": 4,
   "metadata": {},
   "outputs": [
    {
     "name": "stdout",
     "output_type": "stream",
     "text": [
      "ffmpeg -i https://eastus1-mediap.svc.ms/transform/videomanifest?provider=spo\"&\"inputFormat=mp4\"&\"cs=fFNQTw\"&\"docid=https%3A%2F%2Fuofh.sharepoint.com%3A443%2F_api%2Fv2.0%2Fdrives%2Fb%21_UvTG6hckkKEUPfNeemRQX0dpntFgJZEvrdDVsDN-X9u4ax7UyN5RIrLqo_89_I6%2Fitems%2F01SMZX7EEEZA562JSBIRFK3DULFWPXTSZL%3Fversion%3DPublished\"&\"cTag=%22c%3A%7BED3BC884-4126-4A44-AD8E-8B2D9F79CB2B%7D%2C2%22\"&\"action=Access\"&\"part=index\"&\"format=dash\"&\"useScf=True\"&\"altTranscode=1\"&\"altManifestMetadata=eyJBdWRpb0NvZGVjSW5mbyI6ImFhYyIsIkF1ZGlvRnJhbWVTaXplIjoxMDI0LCJBdWRpb1NhbXBsaW5nUmF0ZSI6MTYwMDAsIkF1ZGlvU3RyZWFtRHVyYXRpb24xMDBOYW5vIjo1MTE3Njk2MDAwMCwiQml0cmF0ZSI6NDcwOTcwLCJDb250YWluc0F1ZGlvIjp0cnVlLCJDb250YWluc1ZpZGVvIjp0cnVlLCJDb250ZW50QXdhcmVCaXRyYXRlIjpudWxsLCJDb250ZW50Q2F0ZWdvcnkiOiJ0ZWFtc19tZWV0aW5nIiwiQ3J5cHRvZ3JhcGhpY0RhdGFDcmVhdGVkRGF0ZVVuaXgiOjE2NDY3MDAwNDIsIkNyeXB0b2dyYXBoaWNEYXRhSVYiOiIweEMyMERGMTk0QjFGMkQ0OEU3NTBDRkYyNUUxRjVFRUZEIiwiQ3J5cHRvZ3JhcGhpY0RhdGFLaWQiOiI0NTM0ZDBmMmU0OC4yMjM5NzkuMzAwODQiLCJEdXJhdGlvbjEwME5hbm8iOjUxMTc2OTYwMDAwLCJGcmFtZVNpemUiOnsiaGVpZ2h0IjoxMDgwLCJ3aWR0aCI6MTkyMH0sIkgyNjRMZXZlbCI6NDAsIkhlYWRlck9mZnNldEluQnl0ZXMiOjI0LCJIZWFkZXJTaXplIjoyMDAwOTI0LCJQYWNrZWRGcmFtZVJhdGUiOnsiSGlnaCI6OTU5NTYyNSwiTG93Ijo2Mzk3MTJ9LCJSZWFsQmFzZUZyYW1lUmF0ZSI6eyJIaWdoIjoxNSwiTG93IjoxfSwiVmVyc2lvbiI6eyJfQnVpbGQiOi0xLCJfTWFqb3IiOjEsIl9NaW5vciI6MCwiX1JldmlzaW9uIjotMX0sIlZpZGVvQ29kZWNJbmZvIjoiaDI2NCIsIlZpZGVvUHJldHJhbnNjb2RlRGF0YSI6bnVsbCwiVmlkZW9TdHJlYW1EdXJhdGlvbjEwME5hbm8iOjUxMTc2OTYwMDAwfQ%3D%3D\"&\"enhanceAudio=true\"&\"pretranscode=0\"&\"transcodeahead=0\"&\"enableCdn=1\"&\"psi=36e12294-19ad-42c9-83d8-8333e14e6fba\"&\"ccat=1\"&\"correlationid=9dac26bb-360b-4068-9caf-02b6c73b30de\"&\"hybridPlayback=true\"&\"access_token=eyJ0eXAiOiJKV1QiLCJhbGciOiJub25lIn0.eyJhdWQiOiIwMDAwMDAwMy0wMDAwLTBmZjEtY2UwMC0wMDAwMDAwMDAwMDAvdW9maC5zaGFyZXBvaW50LmNvbUAxNzBiYmFiZC1hMmYwLTRjOTAtYWQ0Yi0wZThmMGYwYzQyNTkiLCJpc3MiOiIwMDAwMDAwMy0wMDAwLTBmZjEtY2UwMC0wMDAwMDAwMDAwMDAiLCJuYmYiOiIxNjUwMTMyMDAwIiwiZXhwIjoiMTY1MDE1MzYwMCIsImVuZHBvaW50dXJsIjoiWlRkS1g3eFJZWkRnZlpqVll5MG9CTXM3cGJBVDd2VGZ1d0tqc0w3dktKcz0iLCJlbmRwb2ludHVybExlbmd0aCI6IjExMSIsImlzbG9vcGJhY2siOiJUcnVlIiwidmVyIjoiaGFzaGVkcHJvb2Z0b2tlbiIsInNpdGVpZCI6Ik1XSmtNelJpWm1RdE5XTmhPQzAwTWpreUxUZzBOVEF0WmpkalpEYzVaVGs1TVRReCIsIm5hbWVpZCI6IjAjLmZ8bWVtYmVyc2hpcHx6emhhbzMzQGNvdWdhcm5ldC51aC5lZHUiLCJuaWkiOiJtaWNyb3NvZnQuc2hhcmVwb2ludCIsImlzdXNlciI6InRydWUiLCJjYWNoZWtleSI6IjBoLmZ8bWVtYmVyc2hpcHwxMDAzMjAwMGQ3ZTU0MTdkQGxpdmUuY29tIiwic2lkIjoiM2IyMjZhMDUtNjY1OS00ODBhLThhZDUtNzA5MWE1Yjg3YTU2IiwidHQiOiIwIiwidXNlUGVyc2lzdGVudENvb2tpZSI6IjIiLCJpcGFkZHIiOiI3My43Ni4yNTMuMjUyIn0.MitzRURmaU1oRFVQWEZuUlRNWDR4WlJST1krMzFndTc3d2tpQ2RYQWxrQT0 -bsf:a aac_adtstoasc -vcodec copy -c copy -crf 50 video/1.mp4\n",
      "ffmpeg -i https://eastus1-mediap.svc.ms/transform/videomanifest?provider=spo\"&\"inputFormat=mp4\"&\"cs=fFNQTw\"&\"docid=https%3A%2F%2Fuofh.sharepoint.com%3A443%2F_api%2Fv2.0%2Fdrives%2Fb%21_UvTG6hckkKEUPfNeemRQX0dpntFgJZEvrdDVsDN-X9u4ax7UyN5RIrLqo_89_I6%2Fitems%2F01SMZX7EBFG263BEUJVZFIJNY4LVLZF7JP%3Fversion%3DPublished\"&\"cTag=%22c%3A%7BB0BD3625-8992-4AAE-84B7-1C5D5792FD2F%7D%2C2%22\"&\"action=Access\"&\"part=index\"&\"format=dash\"&\"useScf=True\"&\"altTranscode=1\"&\"altManifestMetadata=eyJBdWRpb0NvZGVjSW5mbyI6ImFhYyIsIkF1ZGlvRnJhbWVTaXplIjoxMDI0LCJBdWRpb1NhbXBsaW5nUmF0ZSI6MTYwMDAsIkF1ZGlvU3RyZWFtRHVyYXRpb24xMDBOYW5vIjo1MjYwODY0MDAwMCwiQml0cmF0ZSI6NDMwMDA4LCJDb250YWluc0F1ZGlvIjp0cnVlLCJDb250YWluc1ZpZGVvIjp0cnVlLCJDb250ZW50Q2F0ZWdvcnkiOiJ0ZWFtc19tZWV0aW5nIiwiQ3J5cHRvZ3JhcGhpY0RhdGFDcmVhdGVkRGF0ZVVuaXgiOjE2NDY4NDkxNDYsIkNyeXB0b2dyYXBoaWNEYXRhSVYiOiIweEMzQzQ0NDIwMzUwMDc3MjM1MDk4RDI2QTVGNEE5RkUwIiwiQ3J5cHRvZ3JhcGhpY0RhdGFLaWQiOiIwZWU4YmZmNzE0NC45MTg4NzEuOTM0NDkiLCJEdXJhdGlvbjEwME5hbm8iOjUyNjA4NjQwMDAwLCJGcmFtZVNpemUiOnsiaGVpZ2h0IjoxMDgwLCJ3aWR0aCI6MTkyMH0sIkgyNjRMZXZlbCI6NDAsIkhlYWRlck9mZnNldEluQnl0ZXMiOjI0LCJIZWFkZXJTaXplIjoyMDU0MzY4LCJQYWNrZWRGcmFtZVJhdGUiOnsiSGlnaCI6OTg2NDEyNSwiTG93Ijo2NTc2MDh9LCJSZWFsQmFzZUZyYW1lUmF0ZSI6eyJIaWdoIjoxNSwiTG93IjoxfSwiVmVyc2lvbiI6bnVsbCwiVmlkZW9Db2RlY0luZm8iOiJoMjY0IiwiVmlkZW9QcmV0cmFuc2NvZGVEYXRhIjpudWxsLCJWaWRlb1N0cmVhbUR1cmF0aW9uMTAwTmFubyI6NTI2MDg2NDAwMDB9\"&\"enhanceAudio=true\"&\"pretranscode=0\"&\"transcodeahead=0\"&\"enableCdn=1\"&\"psi=bf8fb089-0716-44c7-835c-b9e85d82db3b\"&\"ccat=1\"&\"correlationid=56c97e42-5233-406d-8da1-684ed078bd6d\"&\"hybridPlayback=true\"&\"access_token=eyJ0eXAiOiJKV1QiLCJhbGciOiJub25lIn0.eyJhdWQiOiIwMDAwMDAwMy0wMDAwLTBmZjEtY2UwMC0wMDAwMDAwMDAwMDAvdW9maC5zaGFyZXBvaW50LmNvbUAxNzBiYmFiZC1hMmYwLTRjOTAtYWQ0Yi0wZThmMGYwYzQyNTkiLCJpc3MiOiIwMDAwMDAwMy0wMDAwLTBmZjEtY2UwMC0wMDAwMDAwMDAwMDAiLCJuYmYiOiIxNjUwMTMyMDAwIiwiZXhwIjoiMTY1MDE1MzYwMCIsImVuZHBvaW50dXJsIjoiWlRkS1g3eFJZWkRnZlpqVll5MG9CTXM3cGJBVDd2VGZ1d0tqc0w3dktKcz0iLCJlbmRwb2ludHVybExlbmd0aCI6IjExMSIsImlzbG9vcGJhY2siOiJUcnVlIiwidmVyIjoiaGFzaGVkcHJvb2Z0b2tlbiIsInNpdGVpZCI6Ik1XSmtNelJpWm1RdE5XTmhPQzAwTWpreUxUZzBOVEF0WmpkalpEYzVaVGs1TVRReCIsIm5hbWVpZCI6IjAjLmZ8bWVtYmVyc2hpcHx6emhhbzMzQGNvdWdhcm5ldC51aC5lZHUiLCJuaWkiOiJtaWNyb3NvZnQuc2hhcmVwb2ludCIsImlzdXNlciI6InRydWUiLCJjYWNoZWtleSI6IjBoLmZ8bWVtYmVyc2hpcHwxMDAzMjAwMGQ3ZTU0MTdkQGxpdmUuY29tIiwic2lkIjoiM2IyMjZhMDUtNjY1OS00ODBhLThhZDUtNzA5MWE1Yjg3YTU2IiwidHQiOiIwIiwidXNlUGVyc2lzdGVudENvb2tpZSI6IjIiLCJpcGFkZHIiOiI3My43Ni4yNTMuMjUyIn0.MitzRURmaU1oRFVQWEZuUlRNWDR4WlJST1krMzFndTc3d2tpQ2RYQWxrQT0 -bsf:a aac_adtstoasc -vcodec copy -c copy -crf 50 video/2.mp4\n",
      "ffmpeg -i https://eastus1-mediap.svc.ms/transform/videomanifest?provider=spo\"&\"inputFormat=mp4\"&\"cs=fFNQTw\"&\"docid=https%3A%2F%2Fuofh.sharepoint.com%3A443%2F_api%2Fv2.0%2Fdrives%2Fb%21_UvTG6hckkKEUPfNeemRQX0dpntFgJZEvrdDVsDN-X9u4ax7UyN5RIrLqo_89_I6%2Fitems%2F01SMZX7EHLZ2AJE6FSLNE2E2Z24SC75BM7%3Fversion%3DPublished\"&\"cTag=%22c%3A%7B9280CEEB-B278-495B-A26B-3AE485FE859F%7D%2C2%22\"&\"action=Access\"&\"part=index\"&\"format=dash\"&\"useScf=True\"&\"altTranscode=1\"&\"altManifestMetadata=eyJBdWRpb0NvZGVjSW5mbyI6ImFhYyIsIkF1ZGlvRnJhbWVTaXplIjoxMDI0LCJBdWRpb1NhbXBsaW5nUmF0ZSI6MTYwMDAsIkF1ZGlvU3RyZWFtRHVyYXRpb24xMDBOYW5vIjo0NTU0MzA0MDAwMCwiQml0cmF0ZSI6MzYyOTAyLCJDb250YWluc0F1ZGlvIjp0cnVlLCJDb250YWluc1ZpZGVvIjp0cnVlLCJDb250ZW50QXdhcmVCaXRyYXRlIjpudWxsLCJDb250ZW50Q2F0ZWdvcnkiOiJ0ZWFtc19tZWV0aW5nIiwiQ3J5cHRvZ3JhcGhpY0RhdGFDcmVhdGVkRGF0ZVVuaXgiOjE2NDg2NTQzMzAsIkNyeXB0b2dyYXBoaWNEYXRhSVYiOiIweDQ0NDQwQTEwOTVGNDg4RDhBNkUwRjFBRDg0RThGMjI4IiwiQ3J5cHRvZ3JhcGhpY0RhdGFLaWQiOiI1NGYxY2FkYjNkYy4zNDIzNDYuMzA1NzUiLCJEdXJhdGlvbjEwME5hbm8iOjQ1NTQzMDQwMDAwLCJGcmFtZVNpemUiOnsiaGVpZ2h0IjoxMDgwLCJ3aWR0aCI6MTkyMH0sIkgyNjRMZXZlbCI6NDAsIkhlYWRlck9mZnNldEluQnl0ZXMiOjI0LCJIZWFkZXJTaXplIjoxNzc2MjA4LCJQYWNrZWRGcmFtZVJhdGUiOnsiSGlnaCI6NDI2OTYyNSwiTG93IjoyODQ2NDR9LCJSZWFsQmFzZUZyYW1lUmF0ZSI6eyJIaWdoIjoxNSwiTG93IjoxfSwiVmVyc2lvbiI6eyJfQnVpbGQiOi0xLCJfTWFqb3IiOjEsIl9NaW5vciI6MCwiX1JldmlzaW9uIjotMX0sIlZpZGVvQ29kZWNJbmZvIjoiaDI2NCIsIlZpZGVvUHJldHJhbnNjb2RlRGF0YSI6bnVsbCwiVmlkZW9TdHJlYW1EdXJhdGlvbjEwME5hbm8iOjQ1NTQzMDQwMDAwfQ%3D%3D\"&\"enhanceAudio=true\"&\"pretranscode=0\"&\"transcodeahead=0\"&\"enableCdn=1\"&\"psi=24e9d8da-bc65-441f-9960-b4beeec46f60\"&\"ccat=1\"&\"correlationid=e2110976-b67f-4e8c-a94a-64631042cf2c\"&\"hybridPlayback=true\"&\"access_token=eyJ0eXAiOiJKV1QiLCJhbGciOiJub25lIn0.eyJhdWQiOiIwMDAwMDAwMy0wMDAwLTBmZjEtY2UwMC0wMDAwMDAwMDAwMDAvdW9maC5zaGFyZXBvaW50LmNvbUAxNzBiYmFiZC1hMmYwLTRjOTAtYWQ0Yi0wZThmMGYwYzQyNTkiLCJpc3MiOiIwMDAwMDAwMy0wMDAwLTBmZjEtY2UwMC0wMDAwMDAwMDAwMDAiLCJuYmYiOiIxNjUwMTMyMDAwIiwiZXhwIjoiMTY1MDE1MzYwMCIsImVuZHBvaW50dXJsIjoiWlRkS1g3eFJZWkRnZlpqVll5MG9CTXM3cGJBVDd2VGZ1d0tqc0w3dktKcz0iLCJlbmRwb2ludHVybExlbmd0aCI6IjExMSIsImlzbG9vcGJhY2siOiJUcnVlIiwidmVyIjoiaGFzaGVkcHJvb2Z0b2tlbiIsInNpdGVpZCI6Ik1XSmtNelJpWm1RdE5XTmhPQzAwTWpreUxUZzBOVEF0WmpkalpEYzVaVGs1TVRReCIsIm5hbWVpZCI6IjAjLmZ8bWVtYmVyc2hpcHx6emhhbzMzQGNvdWdhcm5ldC51aC5lZHUiLCJuaWkiOiJtaWNyb3NvZnQuc2hhcmVwb2ludCIsImlzdXNlciI6InRydWUiLCJjYWNoZWtleSI6IjBoLmZ8bWVtYmVyc2hpcHwxMDAzMjAwMGQ3ZTU0MTdkQGxpdmUuY29tIiwic2lkIjoiM2IyMjZhMDUtNjY1OS00ODBhLThhZDUtNzA5MWE1Yjg3YTU2IiwidHQiOiIwIiwidXNlUGVyc2lzdGVudENvb2tpZSI6IjIiLCJpcGFkZHIiOiI3My43Ni4yNTMuMjUyIn0.MitzRURmaU1oRFVQWEZuUlRNWDR4WlJST1krMzFndTc3d2tpQ2RYQWxrQT0 -bsf:a aac_adtstoasc -vcodec copy -c copy -crf 50 video/3.mp4\n",
      "ffmpeg -i https://eastus1-mediap.svc.ms/transform/videomanifest?provider=spo\"&\"inputFormat=mp4\"&\"cs=fFNQTw\"&\"docid=https%3A%2F%2Fuofh.sharepoint.com%3A443%2F_api%2Fv2.0%2Fdrives%2Fb%21_UvTG6hckkKEUPfNeemRQX0dpntFgJZEvrdDVsDN-X9u4ax7UyN5RIrLqo_89_I6%2Fitems%2F01SMZX7EF73TZXH2ACGJGYH7K7L3J7EFVY%3Fversion%3DPublished\"&\"cTag=%22c%3A%7B73F3DCBF-02E8-4D32-83FD-5F5ED3F216B8%7D%2C2%22\"&\"action=Access\"&\"part=index\"&\"format=dash\"&\"useScf=True\"&\"altTranscode=1\"&\"altManifestMetadata=eyJBdWRpb0NvZGVjSW5mbyI6ImFhYyIsIkF1ZGlvRnJhbWVTaXplIjoxMDI0LCJBdWRpb1NhbXBsaW5nUmF0ZSI6MTYwMDAsIkF1ZGlvU3RyZWFtRHVyYXRpb24xMDBOYW5vIjo0NTQ5NzYwMDAwMCwiQml0cmF0ZSI6MzEyMzEwLCJDb250YWluc0F1ZGlvIjp0cnVlLCJDb250YWluc1ZpZGVvIjp0cnVlLCJDb250ZW50QXdhcmVCaXRyYXRlIjpudWxsLCJDb250ZW50Q2F0ZWdvcnkiOiJ0ZWFtc19tZWV0aW5nIiwiQ3J5cHRvZ3JhcGhpY0RhdGFDcmVhdGVkRGF0ZVVuaXgiOjE2NDg2NjY2NTgsIkNyeXB0b2dyYXBoaWNEYXRhSVYiOiIweDlFMkEzODM3NTUzNEFGQzNFRkJENjVBMTAwRkNGQjRDIiwiQ3J5cHRvZ3JhcGhpY0RhdGFLaWQiOiJiM2UxZGIzNzA1MS4yNTU5OTYuNjk2NjIiLCJEdXJhdGlvbjEwME5hbm8iOjQ1NDk3NjAwMDAwLCJGcmFtZVNpemUiOnsiaGVpZ2h0IjoxMDgwLCJ3aWR0aCI6MTkyMH0sIkgyNjRMZXZlbCI6NDAsIkhlYWRlck9mZnNldEluQnl0ZXMiOjI0LCJIZWFkZXJTaXplIjoxODMzNDEyLCJQYWNrZWRGcmFtZVJhdGUiOnsiSGlnaCI6MTcwNjEyNSwiTG93IjoxMTM3NDR9LCJSZWFsQmFzZUZyYW1lUmF0ZSI6eyJIaWdoIjoxNSwiTG93IjoxfSwiVmVyc2lvbiI6bnVsbCwiVmlkZW9Db2RlY0luZm8iOiJoMjY0IiwiVmlkZW9QcmV0cmFuc2NvZGVEYXRhIjpudWxsLCJWaWRlb1N0cmVhbUR1cmF0aW9uMTAwTmFubyI6NDU0OTc2MDAwMDB9\"&\"enhanceAudio=true\"&\"pretranscode=0\"&\"transcodeahead=0\"&\"enableCdn=1\"&\"psi=b16e91a0-83e6-4fc5-bc87-623ecb1add15\"&\"ccat=1\"&\"correlationid=ad0dc145-831e-4ae7-b904-b07a6b37499f\"&\"hybridPlayback=true\"&\"access_token=eyJ0eXAiOiJKV1QiLCJhbGciOiJub25lIn0.eyJhdWQiOiIwMDAwMDAwMy0wMDAwLTBmZjEtY2UwMC0wMDAwMDAwMDAwMDAvdW9maC5zaGFyZXBvaW50LmNvbUAxNzBiYmFiZC1hMmYwLTRjOTAtYWQ0Yi0wZThmMGYwYzQyNTkiLCJpc3MiOiIwMDAwMDAwMy0wMDAwLTBmZjEtY2UwMC0wMDAwMDAwMDAwMDAiLCJuYmYiOiIxNjUwMTMyMDAwIiwiZXhwIjoiMTY1MDE1MzYwMCIsImVuZHBvaW50dXJsIjoiWlRkS1g3eFJZWkRnZlpqVll5MG9CTXM3cGJBVDd2VGZ1d0tqc0w3dktKcz0iLCJlbmRwb2ludHVybExlbmd0aCI6IjExMSIsImlzbG9vcGJhY2siOiJUcnVlIiwidmVyIjoiaGFzaGVkcHJvb2Z0b2tlbiIsInNpdGVpZCI6Ik1XSmtNelJpWm1RdE5XTmhPQzAwTWpreUxUZzBOVEF0WmpkalpEYzVaVGs1TVRReCIsIm5hbWVpZCI6IjAjLmZ8bWVtYmVyc2hpcHx6emhhbzMzQGNvdWdhcm5ldC51aC5lZHUiLCJuaWkiOiJtaWNyb3NvZnQuc2hhcmVwb2ludCIsImlzdXNlciI6InRydWUiLCJjYWNoZWtleSI6IjBoLmZ8bWVtYmVyc2hpcHwxMDAzMjAwMGQ3ZTU0MTdkQGxpdmUuY29tIiwic2lkIjoiM2IyMjZhMDUtNjY1OS00ODBhLThhZDUtNzA5MWE1Yjg3YTU2IiwidHQiOiIwIiwidXNlUGVyc2lzdGVudENvb2tpZSI6IjIiLCJpcGFkZHIiOiI3My43Ni4yNTMuMjUyIn0.MitzRURmaU1oRFVQWEZuUlRNWDR4WlJST1krMzFndTc3d2tpQ2RYQWxrQT0 -bsf:a aac_adtstoasc -vcodec copy -c copy -crf 50 video/4.mp4\n",
      "ffmpeg -i https://eastus1-mediap.svc.ms/transform/videomanifest?provider=spo\"&\"inputFormat=mp4\"&\"cs=fFNQTw\"&\"docid=https%3A%2F%2Fuofh.sharepoint.com%3A443%2F_api%2Fv2.0%2Fdrives%2Fb%21_UvTG6hckkKEUPfNeemRQX0dpntFgJZEvrdDVsDN-X9u4ax7UyN5RIrLqo_89_I6%2Fitems%2F01SMZX7EGZXQD6FLSG4BDJ4NGEGD4RYX5T%3Fversion%3DPublished\"&\"cTag=%22c%3A%7BE207BCD9-46AE-46E0-9E34-C430F91C5FB3%7D%2C2%22\"&\"action=Access\"&\"part=index\"&\"format=dash\"&\"useScf=True\"&\"altTranscode=1\"&\"altManifestMetadata=eyJBdWRpb0NvZGVjSW5mbyI6ImFhYyIsIkF1ZGlvRnJhbWVTaXplIjoxMDI0LCJBdWRpb1NhbXBsaW5nUmF0ZSI6MTYwMDAsIkF1ZGlvU3RyZWFtRHVyYXRpb24xMDBOYW5vIjo1MTcyODAwMDAwMCwiQml0cmF0ZSI6Mzk4Mzc2LCJDb250YWluc0F1ZGlvIjp0cnVlLCJDb250YWluc1ZpZGVvIjp0cnVlLCJDb250ZW50QXdhcmVCaXRyYXRlIjpudWxsLCJDb250ZW50Q2F0ZWdvcnkiOiJ0ZWFtc19tZWV0aW5nIiwiQ3J5cHRvZ3JhcGhpY0RhdGFDcmVhdGVkRGF0ZVVuaXgiOjE2NDgwNjIzMzUsIkNyeXB0b2dyYXBoaWNEYXRhSVYiOiIweDE3NEJGRjYyN0U2RkNEMzU0RTgyQUJDOUI0M0EzQkY0IiwiQ3J5cHRvZ3JhcGhpY0RhdGFLaWQiOiI5NDE2MGJlMWIzZi40MDE4MzUuODg4IiwiRHVyYXRpb24xMDBOYW5vIjo1MTcyODAwMDAwMCwiRnJhbWVTaXplIjp7ImhlaWdodCI6MTA4MCwid2lkdGgiOjE5MjB9LCJIMjY0TGV2ZWwiOjQwLCJIZWFkZXJPZmZzZXRJbkJ5dGVzIjoyNCwiSGVhZGVyU2l6ZSI6MjAzMDM4MCwiUGFja2VkRnJhbWVSYXRlIjp7IkhpZ2giOjM4Nzk1NTAwMCwiTG93IjoyNTg2NDAwM30sIlJlYWxCYXNlRnJhbWVSYXRlIjp7IkhpZ2giOjE1LCJMb3ciOjF9LCJWZXJzaW9uIjp7Il9CdWlsZCI6LTEsIl9NYWpvciI6MSwiX01pbm9yIjowLCJfUmV2aXNpb24iOi0xfSwiVmlkZW9Db2RlY0luZm8iOiJoMjY0IiwiVmlkZW9QcmV0cmFuc2NvZGVEYXRhIjpudWxsLCJWaWRlb1N0cmVhbUR1cmF0aW9uMTAwTmFubyI6NTE3MjgwMDYwMDB9\"&\"enhanceAudio=true\"&\"pretranscode=0\"&\"transcodeahead=0\"&\"enableCdn=1\"&\"psi=45b7c2ed-f603-4272-af2d-dcfe2b934d47\"&\"ccat=1\"&\"correlationid=52667e3a-869d-43fd-9115-6e10b229037d\"&\"hybridPlayback=true\"&\"access_token=eyJ0eXAiOiJKV1QiLCJhbGciOiJub25lIn0.eyJhdWQiOiIwMDAwMDAwMy0wMDAwLTBmZjEtY2UwMC0wMDAwMDAwMDAwMDAvdW9maC5zaGFyZXBvaW50LmNvbUAxNzBiYmFiZC1hMmYwLTRjOTAtYWQ0Yi0wZThmMGYwYzQyNTkiLCJpc3MiOiIwMDAwMDAwMy0wMDAwLTBmZjEtY2UwMC0wMDAwMDAwMDAwMDAiLCJuYmYiOiIxNjUwMTMyMDAwIiwiZXhwIjoiMTY1MDE1MzYwMCIsImVuZHBvaW50dXJsIjoiWlRkS1g3eFJZWkRnZlpqVll5MG9CTXM3cGJBVDd2VGZ1d0tqc0w3dktKcz0iLCJlbmRwb2ludHVybExlbmd0aCI6IjExMSIsImlzbG9vcGJhY2siOiJUcnVlIiwidmVyIjoiaGFzaGVkcHJvb2Z0b2tlbiIsInNpdGVpZCI6Ik1XSmtNelJpWm1RdE5XTmhPQzAwTWpreUxUZzBOVEF0WmpkalpEYzVaVGs1TVRReCIsIm5hbWVpZCI6IjAjLmZ8bWVtYmVyc2hpcHx6emhhbzMzQGNvdWdhcm5ldC51aC5lZHUiLCJuaWkiOiJtaWNyb3NvZnQuc2hhcmVwb2ludCIsImlzdXNlciI6InRydWUiLCJjYWNoZWtleSI6IjBoLmZ8bWVtYmVyc2hpcHwxMDAzMjAwMGQ3ZTU0MTdkQGxpdmUuY29tIiwic2lkIjoiM2IyMjZhMDUtNjY1OS00ODBhLThhZDUtNzA5MWE1Yjg3YTU2IiwidHQiOiIwIiwidXNlUGVyc2lzdGVudENvb2tpZSI6IjIiLCJpcGFkZHIiOiI3My43Ni4yNTMuMjUyIn0.MitzRURmaU1oRFVQWEZuUlRNWDR4WlJST1krMzFndTc3d2tpQ2RYQWxrQT0 -bsf:a aac_adtstoasc -vcodec copy -c copy -crf 50 video/5.mp4\n",
      "ffmpeg -i https://eastus1-mediap.svc.ms/transform/videomanifest?provider=spo\"&\"inputFormat=mp4\"&\"cs=fFNQTw\"&\"docid=https%3A%2F%2Fuofh.sharepoint.com%3A443%2F_api%2Fv2.0%2Fdrives%2Fb%21_UvTG6hckkKEUPfNeemRQX0dpntFgJZEvrdDVsDN-X9u4ax7UyN5RIrLqo_89_I6%2Fitems%2F01SMZX7EFEG5ZFYTE6BJAIE3LIFBGIQP3Y%3Fversion%3DPublished\"&\"cTag=%22c%3A%7B5C7237A4-9E4C-400A-826D-68284C883F78%7D%2C2%22\"&\"action=Access\"&\"part=index\"&\"format=dash\"&\"useScf=True\"&\"altTranscode=1\"&\"altManifestMetadata=eyJBdWRpb0NvZGVjSW5mbyI6ImFhYyIsIkF1ZGlvRnJhbWVTaXplIjoxMDI0LCJBdWRpb1NhbXBsaW5nUmF0ZSI6MTYwMDAsIkF1ZGlvU3RyZWFtRHVyYXRpb24xMDBOYW5vIjo1MDIwMzUyMDAwMCwiQml0cmF0ZSI6MzY3ODQ3LCJDb250YWluc0F1ZGlvIjp0cnVlLCJDb250YWluc1ZpZGVvIjp0cnVlLCJDb250ZW50QXdhcmVCaXRyYXRlIjpudWxsLCJDb250ZW50Q2F0ZWdvcnkiOiJ0ZWFtc19tZWV0aW5nIiwiQ3J5cHRvZ3JhcGhpY0RhdGFDcmVhdGVkRGF0ZVVuaXgiOjE2NDkzNjE5NDMsIkNyeXB0b2dyYXBoaWNEYXRhSVYiOiIweDMwMUY4QkVBRDYyM0RENjEwREY0NTA1NTFBMzRGOTFCIiwiQ3J5cHRvZ3JhcGhpY0RhdGFLaWQiOiI4OTBhMTc1OTZkMy42MTIxNTUuMjA0MCIsIkR1cmF0aW9uMTAwTmFubyI6NTAyMDM1MjAwMDAsIkZyYW1lU2l6ZSI6eyJoZWlnaHQiOjEwODAsIndpZHRoIjoxOTIwfSwiSDI2NExldmVsIjo0MCwiSGVhZGVyT2Zmc2V0SW5CeXRlcyI6MjQsIkhlYWRlclNpemUiOjE5NTU1MDAsIlBhY2tlZEZyYW1lUmF0ZSI6eyJIaWdoIjoxMTc2NjI1LCJMb3ciOjc4NDQzfSwiUmVhbEJhc2VGcmFtZVJhdGUiOnsiSGlnaCI6MTUsIkxvdyI6MX0sIlZlcnNpb24iOm51bGwsIlZpZGVvQ29kZWNJbmZvIjoiaDI2NCIsIlZpZGVvUHJldHJhbnNjb2RlRGF0YSI6bnVsbCwiVmlkZW9TdHJlYW1EdXJhdGlvbjEwME5hbm8iOjUwMjAzNTIwMDAwfQ%3D%3D\"&\"enhanceAudio=true\"&\"pretranscode=0\"&\"transcodeahead=0\"&\"enableCdn=1\"&\"psi=1de38db9-7743-4bdc-bdbd-ab88716bd81e\"&\"ccat=1\"&\"correlationid=14c39874-b704-49cb-b3ac-e547d261fe07\"&\"hybridPlayback=true\"&\"access_token=eyJ0eXAiOiJKV1QiLCJhbGciOiJub25lIn0.eyJhdWQiOiIwMDAwMDAwMy0wMDAwLTBmZjEtY2UwMC0wMDAwMDAwMDAwMDAvdW9maC5zaGFyZXBvaW50LmNvbUAxNzBiYmFiZC1hMmYwLTRjOTAtYWQ0Yi0wZThmMGYwYzQyNTkiLCJpc3MiOiIwMDAwMDAwMy0wMDAwLTBmZjEtY2UwMC0wMDAwMDAwMDAwMDAiLCJuYmYiOiIxNjUwMTMyMDAwIiwiZXhwIjoiMTY1MDE1MzYwMCIsImVuZHBvaW50dXJsIjoiWlRkS1g3eFJZWkRnZlpqVll5MG9CTXM3cGJBVDd2VGZ1d0tqc0w3dktKcz0iLCJlbmRwb2ludHVybExlbmd0aCI6IjExMSIsImlzbG9vcGJhY2siOiJUcnVlIiwidmVyIjoiaGFzaGVkcHJvb2Z0b2tlbiIsInNpdGVpZCI6Ik1XSmtNelJpWm1RdE5XTmhPQzAwTWpreUxUZzBOVEF0WmpkalpEYzVaVGs1TVRReCIsIm5hbWVpZCI6IjAjLmZ8bWVtYmVyc2hpcHx6emhhbzMzQGNvdWdhcm5ldC51aC5lZHUiLCJuaWkiOiJtaWNyb3NvZnQuc2hhcmVwb2ludCIsImlzdXNlciI6InRydWUiLCJjYWNoZWtleSI6IjBoLmZ8bWVtYmVyc2hpcHwxMDAzMjAwMGQ3ZTU0MTdkQGxpdmUuY29tIiwic2lkIjoiM2IyMjZhMDUtNjY1OS00ODBhLThhZDUtNzA5MWE1Yjg3YTU2IiwidHQiOiIwIiwidXNlUGVyc2lzdGVudENvb2tpZSI6IjIiLCJpcGFkZHIiOiI3My43Ni4yNTMuMjUyIn0.MitzRURmaU1oRFVQWEZuUlRNWDR4WlJST1krMzFndTc3d2tpQ2RYQWxrQT0 -bsf:a aac_adtstoasc -vcodec copy -c copy -crf 50 video/6.mp4\n",
      "ffmpeg -i https://eastus1-mediap.svc.ms/transform/videomanifest?provider=spo\"&\"inputFormat=mp4\"&\"cs=fFNQTw\"&\"docid=https%3A%2F%2Fuofh.sharepoint.com%3A443%2F_api%2Fv2.0%2Fdrives%2Fb%21_UvTG6hckkKEUPfNeemRQX0dpntFgJZEvrdDVsDN-X9u4ax7UyN5RIrLqo_89_I6%2Fitems%2F01SMZX7EBFLJWLNSJZRJBZ4FQUMFGVQOU4%3Fversion%3DPublished\"&\"cTag=%22c%3A%7BB66C5A25-39C9-438A-9E16-14614D583A9C%7D%2C2%22\"&\"action=Access\"&\"part=index\"&\"format=dash\"&\"useScf=True\"&\"altTranscode=1\"&\"altManifestMetadata=eyJBdWRpb0NvZGVjSW5mbyI6ImFhYyIsIkF1ZGlvRnJhbWVTaXplIjoxMDI0LCJBdWRpb1NhbXBsaW5nUmF0ZSI6MTYwMDAsIkF1ZGlvU3RyZWFtRHVyYXRpb24xMDBOYW5vIjo0MDM3MTg0MDAwMCwiQml0cmF0ZSI6NDE5NjgxLCJDb250YWluc0F1ZGlvIjp0cnVlLCJDb250YWluc1ZpZGVvIjp0cnVlLCJDb250ZW50QXdhcmVCaXRyYXRlIjpudWxsLCJDb250ZW50Q2F0ZWdvcnkiOiJ0ZWFtc19tZWV0aW5nIiwiQ3J5cHRvZ3JhcGhpY0RhdGFDcmVhdGVkRGF0ZVVuaXgiOjE2NDk0MzI2NzcsIkNyeXB0b2dyYXBoaWNEYXRhSVYiOiIweDRFMDlGNTdCNDE2RkRBOUUxOTBDMDRDMkY2NDdENDdCIiwiQ3J5cHRvZ3JhcGhpY0RhdGFLaWQiOiJiNDE4M2FmM2JlNi42OTAwOTYuNzE2MDEiLCJEdXJhdGlvbjEwME5hbm8iOjQwMzcxODQwMDAwLCJGcmFtZVNpemUiOnsiaGVpZ2h0IjoxMDgwLCJ3aWR0aCI6MTkyMH0sIkgyNjRMZXZlbCI6NDAsIkhlYWRlck9mZnNldEluQnl0ZXMiOjI0LCJIZWFkZXJTaXplIjoxNTk3MTM2LCJQYWNrZWRGcmFtZVJhdGUiOnsiSGlnaCI6NzU2OTEyNSwiTG93Ijo1MDQ2NDh9LCJSZWFsQmFzZUZyYW1lUmF0ZSI6eyJIaWdoIjoxNSwiTG93IjoxfSwiVmVyc2lvbiI6eyJfQnVpbGQiOi0xLCJfTWFqb3IiOjEsIl9NaW5vciI6MCwiX1JldmlzaW9uIjotMX0sIlZpZGVvQ29kZWNJbmZvIjoiaDI2NCIsIlZpZGVvUHJldHJhbnNjb2RlRGF0YSI6bnVsbCwiVmlkZW9TdHJlYW1EdXJhdGlvbjEwME5hbm8iOjQwMzcxODQwMDAwfQ%3D%3D\"&\"enhanceAudio=true\"&\"pretranscode=0\"&\"transcodeahead=0\"&\"enableCdn=1\"&\"psi=fafbddd1-a820-4854-9aa9-e6f9d7335ccd\"&\"ccat=1\"&\"correlationid=1ab713ca-327a-4ebc-a941-d7e3fc67555b\"&\"hybridPlayback=true\"&\"access_token=eyJ0eXAiOiJKV1QiLCJhbGciOiJub25lIn0.eyJhdWQiOiIwMDAwMDAwMy0wMDAwLTBmZjEtY2UwMC0wMDAwMDAwMDAwMDAvdW9maC5zaGFyZXBvaW50LmNvbUAxNzBiYmFiZC1hMmYwLTRjOTAtYWQ0Yi0wZThmMGYwYzQyNTkiLCJpc3MiOiIwMDAwMDAwMy0wMDAwLTBmZjEtY2UwMC0wMDAwMDAwMDAwMDAiLCJuYmYiOiIxNjUwMTMyMDAwIiwiZXhwIjoiMTY1MDE1MzYwMCIsImVuZHBvaW50dXJsIjoiWlRkS1g3eFJZWkRnZlpqVll5MG9CTXM3cGJBVDd2VGZ1d0tqc0w3dktKcz0iLCJlbmRwb2ludHVybExlbmd0aCI6IjExMSIsImlzbG9vcGJhY2siOiJUcnVlIiwidmVyIjoiaGFzaGVkcHJvb2Z0b2tlbiIsInNpdGVpZCI6Ik1XSmtNelJpWm1RdE5XTmhPQzAwTWpreUxUZzBOVEF0WmpkalpEYzVaVGs1TVRReCIsIm5hbWVpZCI6IjAjLmZ8bWVtYmVyc2hpcHx6emhhbzMzQGNvdWdhcm5ldC51aC5lZHUiLCJuaWkiOiJtaWNyb3NvZnQuc2hhcmVwb2ludCIsImlzdXNlciI6InRydWUiLCJjYWNoZWtleSI6IjBoLmZ8bWVtYmVyc2hpcHwxMDAzMjAwMGQ3ZTU0MTdkQGxpdmUuY29tIiwic2lkIjoiM2IyMjZhMDUtNjY1OS00ODBhLThhZDUtNzA5MWE1Yjg3YTU2IiwidHQiOiIwIiwidXNlUGVyc2lzdGVudENvb2tpZSI6IjIiLCJpcGFkZHIiOiI3My43Ni4yNTMuMjUyIn0.MitzRURmaU1oRFVQWEZuUlRNWDR4WlJST1krMzFndTc3d2tpQ2RYQWxrQT0 -bsf:a aac_adtstoasc -vcodec copy -c copy -crf 50 video/7.mp4\n",
      "ffmpeg -i https://eastus1-mediap.svc.ms/transform/videomanifest?provider=spo\"&\"inputFormat=mp4\"&\"cs=fFNQTw\"&\"docid=https%3A%2F%2Fuofh.sharepoint.com%3A443%2F_api%2Fv2.0%2Fdrives%2Fb%21_UvTG6hckkKEUPfNeemRQX0dpntFgJZEvrdDVsDN-X9u4ax7UyN5RIrLqo_89_I6%2Fitems%2F01SMZX7EEWVIFXP45IS5F3BP6DOXLBL2AA%3Fversion%3DPublished\"&\"cTag=%22c%3A%7B770BAA96-A8F3-4B97-B0BF-C375D615E800%7D%2C2%22\"&\"action=Access\"&\"part=index\"&\"format=dash\"&\"useScf=True\"&\"altTranscode=1\"&\"altManifestMetadata=eyJBdWRpb0NvZGVjSW5mbyI6ImFhYyIsIkF1ZGlvRnJhbWVTaXplIjoxMDI0LCJBdWRpb1NhbXBsaW5nUmF0ZSI6MTYwMDAsIkF1ZGlvU3RyZWFtRHVyYXRpb24xMDBOYW5vIjo1MTUyNTc2MDAwMCwiQml0cmF0ZSI6Mzc1OTU0LCJDb250YWluc0F1ZGlvIjp0cnVlLCJDb250YWluc1ZpZGVvIjp0cnVlLCJDb250ZW50QXdhcmVCaXRyYXRlIjpudWxsLCJDb250ZW50Q2F0ZWdvcnkiOiJ0ZWFtc19tZWV0aW5nIiwiQ3J5cHRvZ3JhcGhpY0RhdGFDcmVhdGVkRGF0ZVVuaXgiOjE2NTAxMzY3NTcsIkNyeXB0b2dyYXBoaWNEYXRhSVYiOiIweDAxNjhDNTY1RkQ5OTRFQUJDMUQyMTUxRTQzMzQ2REU1IiwiQ3J5cHRvZ3JhcGhpY0RhdGFLaWQiOiJiMjBlYWNhN2Y4MC41MDU2NjYuNDUzMjMiLCJEdXJhdGlvbjEwME5hbm8iOjUxNTI1NzYwMDAwLCJGcmFtZVNpemUiOnsiaGVpZ2h0IjoxMDgwLCJ3aWR0aCI6MTkyMH0sIkgyNjRMZXZlbCI6NDAsIkhlYWRlck9mZnNldEluQnl0ZXMiOjI0LCJIZWFkZXJTaXplIjoyMDQwNDI0LCJQYWNrZWRGcmFtZVJhdGUiOnsiSGlnaCI6OTY2MDg3NSwiTG93Ijo2NDQwNzJ9LCJSZWFsQmFzZUZyYW1lUmF0ZSI6eyJIaWdoIjoxNSwiTG93IjoxfSwiVmVyc2lvbiI6eyJfQnVpbGQiOi0xLCJfTWFqb3IiOjEsIl9NaW5vciI6MCwiX1JldmlzaW9uIjotMX0sIlZpZGVvQ29kZWNJbmZvIjoiaDI2NCIsIlZpZGVvUHJldHJhbnNjb2RlRGF0YSI6bnVsbCwiVmlkZW9TdHJlYW1EdXJhdGlvbjEwME5hbm8iOjUxNTI1NzYwMDAwfQ%3D%3D\"&\"enhanceAudio=true\"&\"pretranscode=0\"&\"transcodeahead=0\"&\"enableCdn=1\"&\"psi=3bd94e81-84a6-4a1a-a55a-84bfd5df36de\"&\"ccat=1\"&\"correlationid=00cd30af-4bd2-4e0b-9679-264fef05da3f\"&\"hybridPlayback=true\"&\"access_token=eyJ0eXAiOiJKV1QiLCJhbGciOiJub25lIn0.eyJhdWQiOiIwMDAwMDAwMy0wMDAwLTBmZjEtY2UwMC0wMDAwMDAwMDAwMDAvdW9maC5zaGFyZXBvaW50LmNvbUAxNzBiYmFiZC1hMmYwLTRjOTAtYWQ0Yi0wZThmMGYwYzQyNTkiLCJpc3MiOiIwMDAwMDAwMy0wMDAwLTBmZjEtY2UwMC0wMDAwMDAwMDAwMDAiLCJuYmYiOiIxNjUwMTMyMDAwIiwiZXhwIjoiMTY1MDE1MzYwMCIsImVuZHBvaW50dXJsIjoiWlRkS1g3eFJZWkRnZlpqVll5MG9CTXM3cGJBVDd2VGZ1d0tqc0w3dktKcz0iLCJlbmRwb2ludHVybExlbmd0aCI6IjExMSIsImlzbG9vcGJhY2siOiJUcnVlIiwidmVyIjoiaGFzaGVkcHJvb2Z0b2tlbiIsInNpdGVpZCI6Ik1XSmtNelJpWm1RdE5XTmhPQzAwTWpreUxUZzBOVEF0WmpkalpEYzVaVGs1TVRReCIsIm5hbWVpZCI6IjAjLmZ8bWVtYmVyc2hpcHx6emhhbzMzQGNvdWdhcm5ldC51aC5lZHUiLCJuaWkiOiJtaWNyb3NvZnQuc2hhcmVwb2ludCIsImlzdXNlciI6InRydWUiLCJjYWNoZWtleSI6IjBoLmZ8bWVtYmVyc2hpcHwxMDAzMjAwMGQ3ZTU0MTdkQGxpdmUuY29tIiwic2lkIjoiM2IyMjZhMDUtNjY1OS00ODBhLThhZDUtNzA5MWE1Yjg3YTU2IiwidHQiOiIwIiwidXNlUGVyc2lzdGVudENvb2tpZSI6IjIiLCJpcGFkZHIiOiI3My43Ni4yNTMuMjUyIn0.MitzRURmaU1oRFVQWEZuUlRNWDR4WlJST1krMzFndTc3d2tpQ2RYQWxrQT0 -bsf:a aac_adtstoasc -vcodec copy -c copy -crf 50 video/8.mp4\n",
      "ffmpeg -i https://eastus1-mediap.svc.ms/transform/videomanifest?provider=spo\"&\"inputFormat=mp4\"&\"cs=fFNQTw\"&\"docid=https%3A%2F%2Fuofh.sharepoint.com%3A443%2F_api%2Fv2.0%2Fdrives%2Fb%21_UvTG6hckkKEUPfNeemRQX0dpntFgJZEvrdDVsDN-X9u4ax7UyN5RIrLqo_89_I6%2Fitems%2F01SMZX7EBWHI5TRHGDGNAKUVZ7A2XOHHUP%3Fversion%3DPublished\"&\"cTag=%22c%3A%7B383B3A36-C39C-4033-AA57-3F06AEE39E8F%7D%2C2%22\"&\"action=Access\"&\"part=index\"&\"format=dash\"&\"useScf=True\"&\"altTranscode=1\"&\"altManifestMetadata=eyJBdWRpb0NvZGVjSW5mbyI6ImFhYyIsIkF1ZGlvRnJhbWVTaXplIjoxMDI0LCJBdWRpb1NhbXBsaW5nUmF0ZSI6MTYwMDAsIkF1ZGlvU3RyZWFtRHVyYXRpb24xMDBOYW5vIjo0NDY0ODMyMDAwMCwiQml0cmF0ZSI6NjIxMDgyLCJDb250YWluc0F1ZGlvIjp0cnVlLCJDb250YWluc1ZpZGVvIjp0cnVlLCJDb250ZW50QXdhcmVCaXRyYXRlIjpudWxsLCJDb250ZW50Q2F0ZWdvcnkiOiJ0ZWFtc19tZWV0aW5nIiwiRHVyYXRpb24xMDBOYW5vIjo0NDY0ODMyMDAwMCwiRnJhbWVTaXplIjp7ImhlaWdodCI6MTA4MCwid2lkdGgiOjE5MjB9LCJIMjY0TGV2ZWwiOjQwLCJIZWFkZXJPZmZzZXRJbkJ5dGVzIjoyNCwiSGVhZGVyU2l6ZSI6MTc0Mzg0MCwiUGFja2VkRnJhbWVSYXRlIjp7IkhpZ2giOjY2OTcyMDAwMCwiTG93Ijo0NDY0ODMyM30sIlJlYWxCYXNlRnJhbWVSYXRlIjp7IkhpZ2giOjE1LCJMb3ciOjF9LCJWZXJzaW9uIjp7Il9CdWlsZCI6LTEsIl9NYWpvciI6MSwiX01pbm9yIjowLCJfUmV2aXNpb24iOi0xfSwiVmlkZW9Db2RlY0luZm8iOiJoMjY0IiwiVmlkZW9QcmV0cmFuc2NvZGVEYXRhIjpudWxsLCJWaWRlb1N0cmVhbUR1cmF0aW9uMTAwTmFubyI6NDQ2NDgzMjMwMDB9\"&\"enhanceAudio=true\"&\"pretranscode=0\"&\"transcodeahead=0\"&\"enableCdn=1\"&\"psi=e1110f70-1197-437b-9112-26603c8c76e3\"&\"ccat=1\"&\"correlationid=7555ca7d-dcd1-48e1-8b3f-e85be826b66d\"&\"hybridPlayback=true\"&\"access_token=eyJ0eXAiOiJKV1QiLCJhbGciOiJub25lIn0.eyJhdWQiOiIwMDAwMDAwMy0wMDAwLTBmZjEtY2UwMC0wMDAwMDAwMDAwMDAvdW9maC5zaGFyZXBvaW50LmNvbUAxNzBiYmFiZC1hMmYwLTRjOTAtYWQ0Yi0wZThmMGYwYzQyNTkiLCJpc3MiOiIwMDAwMDAwMy0wMDAwLTBmZjEtY2UwMC0wMDAwMDAwMDAwMDAiLCJuYmYiOiIxNjUwMTMyMDAwIiwiZXhwIjoiMTY1MDE1MzYwMCIsImVuZHBvaW50dXJsIjoiWlRkS1g3eFJZWkRnZlpqVll5MG9CTXM3cGJBVDd2VGZ1d0tqc0w3dktKcz0iLCJlbmRwb2ludHVybExlbmd0aCI6IjExMSIsImlzbG9vcGJhY2siOiJUcnVlIiwidmVyIjoiaGFzaGVkcHJvb2Z0b2tlbiIsInNpdGVpZCI6Ik1XSmtNelJpWm1RdE5XTmhPQzAwTWpreUxUZzBOVEF0WmpkalpEYzVaVGs1TVRReCIsIm5hbWVpZCI6IjAjLmZ8bWVtYmVyc2hpcHx6emhhbzMzQGNvdWdhcm5ldC51aC5lZHUiLCJuaWkiOiJtaWNyb3NvZnQuc2hhcmVwb2ludCIsImlzdXNlciI6InRydWUiLCJjYWNoZWtleSI6IjBoLmZ8bWVtYmVyc2hpcHwxMDAzMjAwMGQ3ZTU0MTdkQGxpdmUuY29tIiwic2lkIjoiM2IyMjZhMDUtNjY1OS00ODBhLThhZDUtNzA5MWE1Yjg3YTU2IiwidHQiOiIwIiwidXNlUGVyc2lzdGVudENvb2tpZSI6IjIiLCJpcGFkZHIiOiI3My43Ni4yNTMuMjUyIn0.MitzRURmaU1oRFVQWEZuUlRNWDR4WlJST1krMzFndTc3d2tpQ2RYQWxrQT0 -bsf:a aac_adtstoasc -vcodec copy -c copy -crf 50 video/9.mp4\n"
     ]
    }
   ],
   "source": [
    "#destreamer video\n",
    "file_path = os.getcwd()+'/urls.txt'\n",
    "#不要改\n",
    "\n",
    "url_links = [line.rstrip('\\n') for line in open(file_path)]\n",
    "#不要改\n",
    "\n",
    "\n",
    "for num , url_link in enumerate(url_links):\n",
    "    #save_name = \"video/新片子-\"+str(num)+\".mp4\"\n",
    "    url_link = url_link.replace(\"&\",\"\\\"&\\\"\")\n",
    "    \n",
    "    save_name = \"video/\"+str(num + 1)+\".mp4\"\n",
    "    \n",
    "    #os.system('ffmpeg -i '+ url_link + ' -bsf:a aac_adtstoasc -vcodec copy -c copy -crf 50 ' + save_name)\n",
    "    print('ffmpeg -i '+ url_link + ' -bsf:a aac_adtstoasc -vcodec copy -c copy -crf 50 ' + save_name)\n",
    "    #不要改（shift+回车）"
   ]
  },
  {
   "cell_type": "code",
   "execution_count": 19,
   "metadata": {},
   "outputs": [],
   "source": [
    "#UH Pan video\n",
    "file_path = os.getcwd()+'/urls.txt'\n",
    "#不要改\n",
    "\n",
    "url_links = [line.rstrip('\\n') for line in open(file_path)]\n",
    "#不要改\n",
    "\n",
    "\n",
    "for num , url_link in enumerate(url_links):\n",
    "    date_name_expand = url_link.split(\"/\")[-3]\n",
    "    date_name = date_name_expand.split(\".\")[0]\n",
    "    #save_name = \"video/output-\"+str(num)+\".mp4\"\n",
    "    if num%2:\n",
    "        save_name = \"video/\" + date_name +\"_note\"+\".mp4\"\n",
    "    else:\n",
    "        save_name = \"video/\" + date_name +\"_lecture\"+\".mp4\"\n",
    "    #print(save_name)\n",
    "    os.system('ffmpeg -i '+ url_link + ' -bsf:a aac_adtstoasc -vcodec copy -c copy -crf 50 ' + save_name)\n",
    "    #不要改（shift+回车）"
   ]
  },
  {
   "cell_type": "code",
   "execution_count": 7,
   "metadata": {},
   "outputs": [
    {
     "name": "stdout",
     "output_type": "stream",
     "text": [
      "https://vdownload-26.sb-cd.com/1/0/10366340-720p.mp4?secure=fv8mPvMR0SMFbfq76tBlrg,1640893202&m=26&d=4&_tid=10366340\n"
     ]
    }
   ],
   "source": [
    "#video\n",
    "file_path = os.getcwd()+'/urls.txt'\n",
    "#不要改\n",
    "\n",
    "url_links = [line.rstrip('\\n') for line in open(file_path)]\n",
    "#不要改\n",
    "\n",
    "\n",
    "for num , url_link in enumerate(url_links):\n",
    "    \n",
    "    print(url_link)\n",
    "    #save_name = \"video/新片子-\"+str(num)+\".mp4\"\n",
    "    url_link = url_link.replace(\"&\",\" \\\"&\\\" \")\n",
    "    \n",
    "    save_name = \"video/\"+str(num)+\".mp4\"\n",
    "    \n",
    "    os.system('ffmpeg -i '+ url_link + ' -bsf:a aac_adtstoasc -vcodec copy -c copy -crf 50 ' + save_name)\n",
    "    #不要改（shift+回车）\n",
    "    \n"
   ]
  },
  {
   "cell_type": "code",
   "execution_count": 2,
   "metadata": {},
   "outputs": [
    {
     "name": "stdout",
     "output_type": "stream",
     "text": [
      "downloading  0 th vid. url is  https://youtu.be/QO25QnboJG0\n",
      "downloading  1 th vid. url is  https://youtu.be/L0RVZgyPS98\n",
      "downloading  2 th vid. url is  https://youtu.be/wjblqMrCQd4\n",
      "downloading  3 th vid. url is  https://youtu.be/P5qU62Q43KA\n",
      "downloading  4 th vid. url is  https://youtu.be/1yeA3Gj1zXg\n",
      "downloading  5 th vid. url is  https://youtu.be/TaBAZl0YFiY\n",
      "downloading  6 th vid. url is  https://youtu.be/de3H469u0MA\n",
      "downloading  7 th vid. url is  https://youtu.be/Hwhfobij51E\n",
      "downloading  8 th vid. url is  https://youtube.com/playlist?list=PLGuVsZ6p8HUZcKRiJK3X-x8iqlmVf_Fnp\n",
      "downloading  9 th vid. url is  https://youtube.com/playlist?list=PLRBClVey5Bqx0F9cfWVH__VCJyXmpdRJJ\n",
      "downloading  10 th vid. url is  https://youtube.com/playlist?list=PLhqe0CIJjJn9A_tI7XYqnVKLpws5gYzX7\n",
      "downloading  11 th vid. url is  https://youtube.com/playlist?list=PLMX26aiIvX5pYn98zge18X88sfeYbnhTr\n",
      "downloading  12 th vid. url is  https://youtube.com/playlist?list=PL11L1O99p1tpTVtVB3XrFJi0cAA6vtlV9\n",
      "downloading  13 th vid. url is  \n"
     ]
    }
   ],
   "source": [
    "#youtube video\n",
    "file_path = os.getcwd()+'/youtube_urls.txt'\n",
    "#不要改\n",
    "\n",
    "url_links = [line.rstrip('\\n') for line in open(file_path)]\n",
    "#不要改\n",
    "\n",
    "\n",
    "for num , url_link in enumerate(url_links):\n",
    "    \n",
    "    #save_name = \"video/新片子-\"+str(num)+\".mp4\"\n",
    "    url_link = url_link.replace(\"&\",\" \\\"&\\\" \")\n",
    "    \n",
    "    print(\"downloading \", num, \"th vid. url is \", url_link)\n",
    "    #save_name = \"video/\"+str(num)+\".mp4\"\n",
    "    \n",
    "    #os.system('youtube-dl '+ url_link)\n",
    "    os.system('yt-dlp '+ url_link)\n",
    "    #不要改（shift+回车）"
   ]
  },
  {
   "cell_type": "code",
   "execution_count": null,
   "metadata": {},
   "outputs": [],
   "source": [
    "#youtube audio\n",
    "file_path = os.getcwd()+'/urls.txt'\n",
    "#不要改\n",
    "\n",
    "url_links = [line.rstrip('\\n') for line in open(file_path)]\n",
    "#不要改\n",
    "\n",
    "\n",
    "for num , url_link in enumerate(url_links):\n",
    "    \n",
    "    url_link = url_link.replace(\"&\",\" \\\"&\\\" \")\n",
    "    \n",
    "    os.system('youtube-dl -f bestaudio --extract-audio --audio-format mp3 --audio-quality 0 '+ url_link)"
   ]
  },
  {
   "cell_type": "code",
   "execution_count": 14,
   "metadata": {},
   "outputs": [],
   "source": [
    "#字幕下载（注意字幕链接顺序要与视频链接的顺序一一对应）\n",
    "sub_file_path = os.getcwd()+'/subtitle_urls.txt'\n",
    "#不要改\n",
    "\n",
    "sub_url_links = [line.rstrip('\\n') for line in open(sub_file_path)]\n",
    "#不要改\n",
    "\n",
    "for num , sub_url_link in enumerate(sub_url_links):\n",
    "    save_name = \"output-\"+str(num)+\".srt\"\n",
    "    os.system('ffmpeg -i '+ sub_url_link + ' ' + save_name)\n",
    "    #不要改（shift+回车）"
   ]
  },
  {
   "cell_type": "code",
   "execution_count": 6,
   "metadata": {},
   "outputs": [],
   "source": [
    "#youtube 音乐下载（mp3）\n",
    "youtube_file_path = os.getcwd()+'/youtube_urls.txt'\n",
    "#不要改\n",
    "\n",
    "youtube_url_links = [line.rstrip('\\n') for line in open(youtube_file_path)]\n",
    "#不要改\n",
    "\n",
    "for num , youtube_url_link in enumerate(youtube_url_links):\n",
    "    save_name = \"output-\"+str(num)+\".srt\"\n",
    "    os.system('youtube-dl -x --audio-format mp3 ' + youtube_url_link)\n",
    "    #不要改（shift+回车）"
   ]
  },
  {
   "cell_type": "code",
   "execution_count": 2,
   "metadata": {},
   "outputs": [],
   "source": [
    "#youtube playlist 视频下载（mp4）\n",
    "playlist_file_path = os.getcwd()+'/playlist.txt'\n",
    "#不要改\n",
    "\n",
    "playlist_url_links = [line.rstrip('\\n') for line in open(playlist_file_path)]\n",
    "#不要改\n",
    "\n",
    "for num , playlist_url_link in enumerate(playlist_url_links):\n",
    "    os.system('youtube-dl -i --verbose '+ playlist_url_link)\n",
    "    #不要改（shift+回车）"
   ]
  },
  {
   "cell_type": "code",
   "execution_count": null,
   "metadata": {},
   "outputs": [],
   "source": [
    "#youtube playlist 字幕下载（srt）\n",
    "playlist_file_path = os.getcwd()+'/playlist.txt'\n",
    "#不要改\n",
    "\n",
    "playlist_url_links = [line.rstrip('\\n') for line in open(playlist_file_path)]\n",
    "#不要改\n",
    "\n",
    "for num , playlist_url_link in enumerate(playlist_url_links):\n",
    "    os.system('youtube-dl --write-auto-sub --skip-download '+ playlist_url_link)\n",
    "    #不要改（shift+回车）\n",
    "    #--write-sub                      Write subtitle file\n",
    "    #--write-auto-sub                 Write automatic subtitle file (YouTube only)\n",
    "    #--all-subs                       Download all the available subtitles of the video\n",
    "    #--list-subs                      List all available subtitles for the video\n",
    "    #--sub-format FORMAT              Subtitle format, accepts formats preference, for example: \"srt\" or \"ass/srt/best\"\n",
    "    #--sub-lang LANGS                 Languages of the subtitles to download (optional) separated by commas, use IETF language tags like 'en,pt'"
   ]
  },
  {
   "cell_type": "code",
   "execution_count": null,
   "metadata": {},
   "outputs": [],
   "source": [
    "#note 腾讯课堂的url  & 字符用 \"&\" 字符代替，不然会报错\n",
    "#note 其他视频网站的.m3u8 文件后面的后缀需要保留，否则会报错\n",
    "#https://m10.music.126.net/20200930035440/0b14634a6624c3e4ca61ae255b7cd20b/yyaac/0f59/510e/565b/832d49abecfdd84aa807a1e7d525957a.m4a"
   ]
  },
  {
   "cell_type": "code",
   "execution_count": 8,
   "metadata": {},
   "outputs": [],
   "source": [
    "# music\n",
    "music_file_path = os.getcwd()+'\\\\music_urls.txt'\n",
    "\n",
    "music_url_links = [line.rstrip('\\n') for line in open(music_file_path)]\n",
    "\n",
    "for num , music_url_link in enumerate(music_url_links):\n",
    "    #music_save_name = music_url_link.split('/')[-1]+'.mp3'    #这里的name 是umn视频专用的\n",
    "    music_save_name = music_url_link.split('/')[-1]\n",
    "    #music_save_name = \"output\"+str(num)+\".mp3\"\n",
    "    #save_name = \"2020交通项目评估与管理第\"+str(num+6)+\"讲.mp4\"\n",
    "    os.system('ffmpeg -i '+ music_url_link + ' -acodec copy -c copy -crf 50 ' + music_save_name)\n"
   ]
  },
  {
   "cell_type": "code",
   "execution_count": 6,
   "metadata": {},
   "outputs": [],
   "source": [
    "#bilibili Aiqiyi etc\n",
    "file_path = os.getcwd()+'/urls.txt'\n",
    "#不要改\n",
    "\n",
    "url_links = [line.rstrip('\\n') for line in open(file_path)]\n",
    "#不要改\n",
    "\n",
    "\n",
    "for num , url_link in enumerate(url_links):\n",
    "    \n",
    "    save_name = \"output-\"+str(num)+\".mp4\"\n",
    "    \n",
    "    url_link = url_link.replace(\"&\",\" \\\"&\\\" \")\n",
    "    os.system('you-get '+  url_link)\n",
    "    \n",
    "    #不要改（shift+回车）"
   ]
  },
  {
   "cell_type": "code",
   "execution_count": null,
   "metadata": {},
   "outputs": [],
   "source": [
    "# youtube-dl --merge-output-format mp4 \"https://streamusea1su011.azureedge.net/2a552a43-a2db-42d0-85ec-b8b170f6b450/1-2crwnqiymwnza6bgnghe6xsqde.ism/manifest(format=mpd-time-csf)\""
   ]
  },
  {
   "cell_type": "code",
   "execution_count": 2,
   "metadata": {},
   "outputs": [
    {
     "data": {
      "text/plain": [
       "'asda\"&\"sadsad'"
      ]
     },
     "execution_count": 2,
     "metadata": {},
     "output_type": "execute_result"
    }
   ],
   "source": [
    "\"asda&sadsad\".replace(\"&\",\"\\\"&\\\"\")"
   ]
  },
  {
   "cell_type": "code",
   "execution_count": null,
   "metadata": {},
   "outputs": [],
   "source": [
    "#youtube playlist 视频下载（mp4）\n",
    "playlist_file_path = os.getcwd()+'/playlist.txt'\n",
    "#不要改\n",
    "\n",
    "playlist_url_links = [line.rstrip('\\n') for line in open(playlist_file_path)]\n",
    "#不要改\n",
    "\n",
    "for num , playlist_url_link in enumerate(playlist_url_links):\n",
    "    os.system('yt-dlp -f bv+ba/b -S res,ext:mp4:m4a --recode mp4 '+ playlist_url_link)\n",
    "    #不要改（shift+回车）"
   ]
  }
 ],
 "metadata": {
  "interpreter": {
   "hash": "2db524e06e9f5f4ffedc911c917cb75e12dbc923643829bf417064a77eb14d37"
  },
  "kernelspec": {
   "display_name": "Python 3",
   "language": "python",
   "name": "python3"
  },
  "language_info": {
   "codemirror_mode": {
    "name": "ipython",
    "version": 3
   },
   "file_extension": ".py",
   "mimetype": "text/x-python",
   "name": "python",
   "nbconvert_exporter": "python",
   "pygments_lexer": "ipython3",
   "version": "3.8.6"
  }
 },
 "nbformat": 4,
 "nbformat_minor": 2
}
