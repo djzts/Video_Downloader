{
 "cells": [
  {
   "cell_type": "code",
   "execution_count": 1,
   "metadata": {},
   "outputs": [],
   "source": [
    "import os\n",
    "import ffmpeg\n",
    "#不管执行哪一个 下载程序都要执行这个框框的程序\n",
    "#执行方法 shift+回车/control+回车"
   ]
  },
  {
   "cell_type": "code",
   "execution_count": 7,
   "metadata": {},
   "outputs": [
    {
     "name": "stdout",
     "output_type": "stream",
     "text": [
      "ffmpeg -i https://dcs-vod.mp.lura.live/vod/p/1707800/prog.m3u8?i=i177619001-n945b8477-e8cf-401f-a6b6-e7300c1a6fee\"&\"anvtrid=fa6d1b70a9376a370762c32bd36bb18e -bsf:a aac_adtstoasc -vcodec copy -c copy -crf 50 video/0_.mp4\n"
     ]
    }
   ],
   "source": [
    "#video\n",
    "file_path = os.getcwd()+'/urls.txt'\n",
    "#不要改\n",
    "\n",
    "url_links = [line.rstrip('\\n') for line in open(file_path)]\n",
    "#不要改\n",
    "\n",
    "\n",
    "for num , url_link in enumerate(url_links):\n",
    "    #save_name = \"video/新片子-\"+str(num)+\".mp4\"\n",
    "    url_link = url_link.replace(\"&\",\"\\\"&\\\"\")\n",
    "    \n",
    "    save_name = \"video/\"+str(num)+\"_.mp4\"\n",
    "    \n",
    "    os.system('ffmpeg -i '+ url_link + ' -bsf:a aac_adtstoasc -vcodec copy -c copy -crf 50 ' + save_name)\n",
    "    \n",
    "    print('ffmpeg -i '+ url_link + ' -bsf:a aac_adtstoasc -vcodec copy -c copy -crf 50 ' + save_name)\n",
    "    #不要改（shift+回车）"
   ]
  },
  {
   "cell_type": "code",
   "execution_count": 3,
   "metadata": {},
   "outputs": [
    {
     "name": "stdout",
     "output_type": "stream",
     "text": [
      "ffmpeg -i https://eastus1-mediap.svc.ms/transform/videomanifest?provider=spo\"&\"inputFormat=mp4\"&\"cs=fFNQTw\"&\"docid=https%3A%2F%2Fuofh.sharepoint.com%3A443%2F_api%2Fv2.0%2Fdrives%2Fb%21tEr7DkMeDke_j3vSCJibAbRpke1oo6VDgIEVA2NIjovqYNZ6AJ93Ras0l4fQ2xKi%2Fitems%2F01GKR4WERIZDTID23IS5A3TA4I32J7WASU%3Fversion%3DPublished\"&\"cTag=%22c%3A%7B81E6C828-68EB-4197-B983-88DE93FB0254%7D%2C2%22\"&\"action=Access\"&\"part=index\"&\"format=dash\"&\"useScf=True\"&\"altTranscode=1\"&\"altManifestMetadata=eyJBdWRpb0NvZGVjSW5mbyI6ImFhYyIsIkF1ZGlvRnJhbWVTaXplIjoxMDI0LCJBdWRpb1NhbXBsaW5nUmF0ZSI6MTYwMDAsIkF1ZGlvU3RyZWFtRHVyYXRpb24xMDBOYW5vIjo1MjA3MTA0MDAwMCwiQml0cmF0ZSI6NDc1ODI3LCJDb250YWluc0F1ZGlvIjp0cnVlLCJDb250YWluc1ZpZGVvIjp0cnVlLCJDb250ZW50Q2F0ZWdvcnkiOiJ0ZWFtc19tZWV0aW5nIiwiQ3J5cHRvZ3JhcGhpY0RhdGFDcmVhdGVkRGF0ZVVuaXgiOjE2NDYwODA4MzQsIkNyeXB0b2dyYXBoaWNEYXRhSVYiOiIweDlDMDY3MENCMTBBRkZDMTlBOUE4MUYxRTQ0RTFDODk5IiwiQ3J5cHRvZ3JhcGhpY0RhdGFLaWQiOiJjMzQzZjdiZDU3Yi40MTMwNC44NTI4MSIsIkR1cmF0aW9uMTAwTmFubyI6NTIwNzEwNDAwMDAsIkZyYW1lU2l6ZSI6eyJoZWlnaHQiOjEwODAsIndpZHRoIjoxOTIwfSwiSDI2NExldmVsIjo0MCwiSGVhZGVyT2Zmc2V0SW5CeXRlcyI6MjQsIkhlYWRlclNpemUiOjIwMjEzNjQsIlBhY2tlZEZyYW1lUmF0ZSI6eyJIaWdoIjozOTA1MjAwMDAsIkxvdyI6MjYwMzU1MjN9LCJSZWFsQmFzZUZyYW1lUmF0ZSI6eyJIaWdoIjoxNSwiTG93IjoxfSwiVmVyc2lvbiI6bnVsbCwiVmlkZW9Db2RlY0luZm8iOiJoMjY0IiwiVmlkZW9QcmV0cmFuc2NvZGVEYXRhIjpudWxsLCJWaWRlb1N0cmVhbUR1cmF0aW9uMTAwTmFubyI6NTIwNzEwNDYwMDB9\"&\"pretranscode=0\"&\"transcodeahead=0\"&\"enableCdn=1\"&\"psi=2195eee2-66ad-4322-9f48-b444d93ddd26\"&\"ccat=1\"&\"correlationid=e63624aa-6974-48e3-8a81-c70867434520\"&\"hybridPlayback=true\"&\"access_token=eyJ0eXAiOiJKV1QiLCJhbGciOiJub25lIn0.eyJhdWQiOiIwMDAwMDAwMy0wMDAwLTBmZjEtY2UwMC0wMDAwMDAwMDAwMDAvdW9maC5zaGFyZXBvaW50LmNvbUAxNzBiYmFiZC1hMmYwLTRjOTAtYWQ0Yi0wZThmMGYwYzQyNTkiLCJpc3MiOiIwMDAwMDAwMy0wMDAwLTBmZjEtY2UwMC0wMDAwMDAwMDAwMDAiLCJuYmYiOiIxNjQ2MDgyMDAwIiwiZXhwIjoiMTY0NjEwMzYwMCIsImVuZHBvaW50dXJsIjoibjZMU1NON2taemFxUS9JbUk5WWNSSkpVZHJOTEloaUNSMDNNY0tLc3BmMD0iLCJlbmRwb2ludHVybExlbmd0aCI6IjExMSIsImlzbG9vcGJhY2siOiJUcnVlIiwidmVyIjoiaGFzaGVkcHJvb2Z0b2tlbiIsInNpdGVpZCI6Ik1HVm1ZalJoWWpRdE1XVTBNeTAwTnpCbExXSm1PR1l0TjJKa01qQTRPVGc1WWpBeCIsIm5hbWVpZCI6IjAjLmZ8bWVtYmVyc2hpcHx6emhhbzMzQGNvdWdhcm5ldC51aC5lZHUiLCJuaWkiOiJtaWNyb3NvZnQuc2hhcmVwb2ludCIsImlzdXNlciI6InRydWUiLCJjYWNoZWtleSI6IjBoLmZ8bWVtYmVyc2hpcHwxMDAzMjAwMGQ3ZTU0MTdkQGxpdmUuY29tIiwic2Vzc2lvbmlkIjoiMDQ2YzY4ODItZjc3OS00ZDAzLWI2MDMtZWI0MmQ4Y2JkOGI2IiwidHQiOiIwIiwidXNlUGVyc2lzdGVudENvb2tpZSI6IjIiLCJpcGFkZHIiOiI3My43Ni4yNTMuMjUyIn0.WDA1ZjBBVlAxTWF0NjJCY0N2NUYrM25vYmFxa1lucGpqMlA1MWoxODNxMD0 -bsf:a aac_adtstoasc -vcodec copy -c copy -crf 50 video/11.mp4\n"
     ]
    }
   ],
   "source": [
    "#destreamer video\n",
    "file_path = os.getcwd()+'/urls.txt'\n",
    "#不要改\n",
    "\n",
    "url_links = [line.rstrip('\\n') for line in open(file_path)]\n",
    "#不要改\n",
    "\n",
    "\n",
    "for num , url_link in enumerate(url_links):\n",
    "    #save_name = \"video/新片子-\"+str(num)+\".mp4\"\n",
    "    url_link = url_link.replace(\"&\",\"\\\"&\\\"\")\n",
    "    \n",
    "    save_name = \"video/\"+str(num + 1)+\".mp4\"\n",
    "    \n",
    "    #os.system('ffmpeg -i '+ url_link + ' -bsf:a aac_adtstoasc -vcodec copy -c copy -crf 50 ' + save_name)\n",
    "    print('ffmpeg -i '+ url_link + ' -bsf:a aac_adtstoasc -vcodec copy -c copy -crf 50 ' + save_name)\n",
    "    #不要改（shift+回车）"
   ]
  },
  {
   "cell_type": "code",
   "execution_count": 19,
   "metadata": {},
   "outputs": [],
   "source": [
    "#UH Pan video\n",
    "file_path = os.getcwd()+'/urls.txt'\n",
    "#不要改\n",
    "\n",
    "url_links = [line.rstrip('\\n') for line in open(file_path)]\n",
    "#不要改\n",
    "\n",
    "\n",
    "for num , url_link in enumerate(url_links):\n",
    "    date_name_expand = url_link.split(\"/\")[-3]\n",
    "    date_name = date_name_expand.split(\".\")[0]\n",
    "    #save_name = \"video/output-\"+str(num)+\".mp4\"\n",
    "    if num%2:\n",
    "        save_name = \"video/\" + date_name +\"_note\"+\".mp4\"\n",
    "    else:\n",
    "        save_name = \"video/\" + date_name +\"_lecture\"+\".mp4\"\n",
    "    #print(save_name)\n",
    "    os.system('ffmpeg -i '+ url_link + ' -bsf:a aac_adtstoasc -vcodec copy -c copy -crf 50 ' + save_name)\n",
    "    #不要改（shift+回车）"
   ]
  },
  {
   "cell_type": "code",
   "execution_count": 7,
   "metadata": {},
   "outputs": [
    {
     "name": "stdout",
     "output_type": "stream",
     "text": [
      "https://vdownload-26.sb-cd.com/1/0/10366340-720p.mp4?secure=fv8mPvMR0SMFbfq76tBlrg,1640893202&m=26&d=4&_tid=10366340\n"
     ]
    }
   ],
   "source": [
    "#video\n",
    "file_path = os.getcwd()+'/urls.txt'\n",
    "#不要改\n",
    "\n",
    "url_links = [line.rstrip('\\n') for line in open(file_path)]\n",
    "#不要改\n",
    "\n",
    "\n",
    "for num , url_link in enumerate(url_links):\n",
    "    \n",
    "    print(url_link)\n",
    "    #save_name = \"video/新片子-\"+str(num)+\".mp4\"\n",
    "    url_link = url_link.replace(\"&\",\" \\\"&\\\" \")\n",
    "    \n",
    "    save_name = \"video/\"+str(num)+\".mp4\"\n",
    "    \n",
    "    os.system('ffmpeg -i '+ url_link + ' -bsf:a aac_adtstoasc -vcodec copy -c copy -crf 50 ' + save_name)\n",
    "    #不要改（shift+回车）\n",
    "    \n"
   ]
  },
  {
   "cell_type": "code",
   "execution_count": 2,
   "metadata": {},
   "outputs": [
    {
     "name": "stdout",
     "output_type": "stream",
     "text": [
      "downloading  0 th vid. url is  https://youtu.be/QO25QnboJG0\n",
      "downloading  1 th vid. url is  https://youtu.be/L0RVZgyPS98\n",
      "downloading  2 th vid. url is  https://youtu.be/wjblqMrCQd4\n",
      "downloading  3 th vid. url is  https://youtu.be/P5qU62Q43KA\n",
      "downloading  4 th vid. url is  https://youtu.be/1yeA3Gj1zXg\n",
      "downloading  5 th vid. url is  https://youtu.be/TaBAZl0YFiY\n",
      "downloading  6 th vid. url is  https://youtu.be/de3H469u0MA\n",
      "downloading  7 th vid. url is  https://youtu.be/Hwhfobij51E\n",
      "downloading  8 th vid. url is  https://youtube.com/playlist?list=PLGuVsZ6p8HUZcKRiJK3X-x8iqlmVf_Fnp\n",
      "downloading  9 th vid. url is  https://youtube.com/playlist?list=PLRBClVey5Bqx0F9cfWVH__VCJyXmpdRJJ\n",
      "downloading  10 th vid. url is  https://youtube.com/playlist?list=PLhqe0CIJjJn9A_tI7XYqnVKLpws5gYzX7\n",
      "downloading  11 th vid. url is  https://youtube.com/playlist?list=PLMX26aiIvX5pYn98zge18X88sfeYbnhTr\n",
      "downloading  12 th vid. url is  https://youtube.com/playlist?list=PL11L1O99p1tpTVtVB3XrFJi0cAA6vtlV9\n",
      "downloading  13 th vid. url is  \n"
     ]
    }
   ],
   "source": [
    "#youtube video\n",
    "file_path = os.getcwd()+'/youtube_urls.txt'\n",
    "#不要改\n",
    "\n",
    "url_links = [line.rstrip('\\n') for line in open(file_path)]\n",
    "#不要改\n",
    "\n",
    "\n",
    "for num , url_link in enumerate(url_links):\n",
    "    \n",
    "    #save_name = \"video/新片子-\"+str(num)+\".mp4\"\n",
    "    url_link = url_link.replace(\"&\",\" \\\"&\\\" \")\n",
    "    \n",
    "    print(\"downloading \", num, \"th vid. url is \", url_link)\n",
    "    #save_name = \"video/\"+str(num)+\".mp4\"\n",
    "    \n",
    "    #os.system('youtube-dl '+ url_link)\n",
    "    os.system('yt-dlp '+ url_link)\n",
    "    #不要改（shift+回车）"
   ]
  },
  {
   "cell_type": "code",
   "execution_count": null,
   "metadata": {},
   "outputs": [],
   "source": [
    "#youtube audio\n",
    "file_path = os.getcwd()+'/urls.txt'\n",
    "#不要改\n",
    "\n",
    "url_links = [line.rstrip('\\n') for line in open(file_path)]\n",
    "#不要改\n",
    "\n",
    "\n",
    "for num , url_link in enumerate(url_links):\n",
    "    \n",
    "    url_link = url_link.replace(\"&\",\" \\\"&\\\" \")\n",
    "    \n",
    "    os.system('youtube-dl -f bestaudio --extract-audio --audio-format mp3 --audio-quality 0 '+ url_link)"
   ]
  },
  {
   "cell_type": "code",
   "execution_count": 14,
   "metadata": {},
   "outputs": [],
   "source": [
    "#字幕下载（注意字幕链接顺序要与视频链接的顺序一一对应）\n",
    "sub_file_path = os.getcwd()+'/subtitle_urls.txt'\n",
    "#不要改\n",
    "\n",
    "sub_url_links = [line.rstrip('\\n') for line in open(sub_file_path)]\n",
    "#不要改\n",
    "\n",
    "for num , sub_url_link in enumerate(sub_url_links):\n",
    "    save_name = \"output-\"+str(num)+\".srt\"\n",
    "    os.system('ffmpeg -i '+ sub_url_link + ' ' + save_name)\n",
    "    #不要改（shift+回车）"
   ]
  },
  {
   "cell_type": "code",
   "execution_count": 6,
   "metadata": {},
   "outputs": [],
   "source": [
    "#youtube 音乐下载（mp3）\n",
    "youtube_file_path = os.getcwd()+'/youtube_urls.txt'\n",
    "#不要改\n",
    "\n",
    "youtube_url_links = [line.rstrip('\\n') for line in open(youtube_file_path)]\n",
    "#不要改\n",
    "\n",
    "for num , youtube_url_link in enumerate(youtube_url_links):\n",
    "    save_name = \"output-\"+str(num)+\".srt\"\n",
    "    os.system('youtube-dl -x --audio-format mp3 ' + youtube_url_link)\n",
    "    #不要改（shift+回车）"
   ]
  },
  {
   "cell_type": "code",
   "execution_count": 2,
   "metadata": {},
   "outputs": [],
   "source": [
    "#youtube playlist 视频下载（mp4）\n",
    "playlist_file_path = os.getcwd()+'/playlist.txt'\n",
    "#不要改\n",
    "\n",
    "playlist_url_links = [line.rstrip('\\n') for line in open(playlist_file_path)]\n",
    "#不要改\n",
    "\n",
    "for num , playlist_url_link in enumerate(playlist_url_links):\n",
    "    os.system('youtube-dl -i --verbose '+ playlist_url_link)\n",
    "    #不要改（shift+回车）"
   ]
  },
  {
   "cell_type": "code",
   "execution_count": null,
   "metadata": {},
   "outputs": [],
   "source": [
    "#youtube playlist 字幕下载（srt）\n",
    "playlist_file_path = os.getcwd()+'/playlist.txt'\n",
    "#不要改\n",
    "\n",
    "playlist_url_links = [line.rstrip('\\n') for line in open(playlist_file_path)]\n",
    "#不要改\n",
    "\n",
    "for num , playlist_url_link in enumerate(playlist_url_links):\n",
    "    os.system('youtube-dl --write-auto-sub --skip-download '+ playlist_url_link)\n",
    "    #不要改（shift+回车）\n",
    "    #--write-sub                      Write subtitle file\n",
    "    #--write-auto-sub                 Write automatic subtitle file (YouTube only)\n",
    "    #--all-subs                       Download all the available subtitles of the video\n",
    "    #--list-subs                      List all available subtitles for the video\n",
    "    #--sub-format FORMAT              Subtitle format, accepts formats preference, for example: \"srt\" or \"ass/srt/best\"\n",
    "    #--sub-lang LANGS                 Languages of the subtitles to download (optional) separated by commas, use IETF language tags like 'en,pt'"
   ]
  },
  {
   "cell_type": "code",
   "execution_count": null,
   "metadata": {},
   "outputs": [],
   "source": [
    "#note 腾讯课堂的url  & 字符用 \"&\" 字符代替，不然会报错\n",
    "#note 其他视频网站的.m3u8 文件后面的后缀需要保留，否则会报错\n",
    "#https://m10.music.126.net/20200930035440/0b14634a6624c3e4ca61ae255b7cd20b/yyaac/0f59/510e/565b/832d49abecfdd84aa807a1e7d525957a.m4a"
   ]
  },
  {
   "cell_type": "code",
   "execution_count": 8,
   "metadata": {},
   "outputs": [],
   "source": [
    "# music\n",
    "music_file_path = os.getcwd()+'\\\\music_urls.txt'\n",
    "\n",
    "music_url_links = [line.rstrip('\\n') for line in open(music_file_path)]\n",
    "\n",
    "for num , music_url_link in enumerate(music_url_links):\n",
    "    #music_save_name = music_url_link.split('/')[-1]+'.mp3'    #这里的name 是umn视频专用的\n",
    "    music_save_name = music_url_link.split('/')[-1]\n",
    "    #music_save_name = \"output\"+str(num)+\".mp3\"\n",
    "    #save_name = \"2020交通项目评估与管理第\"+str(num+6)+\"讲.mp4\"\n",
    "    os.system('ffmpeg -i '+ music_url_link + ' -acodec copy -c copy -crf 50 ' + music_save_name)\n"
   ]
  },
  {
   "cell_type": "code",
   "execution_count": 6,
   "metadata": {},
   "outputs": [],
   "source": [
    "#bilibili Aiqiyi etc\n",
    "file_path = os.getcwd()+'/urls.txt'\n",
    "#不要改\n",
    "\n",
    "url_links = [line.rstrip('\\n') for line in open(file_path)]\n",
    "#不要改\n",
    "\n",
    "\n",
    "for num , url_link in enumerate(url_links):\n",
    "    \n",
    "    save_name = \"output-\"+str(num)+\".mp4\"\n",
    "    \n",
    "    url_link = url_link.replace(\"&\",\" \\\"&\\\" \")\n",
    "    os.system('you-get '+  url_link)\n",
    "    \n",
    "    #不要改（shift+回车）"
   ]
  },
  {
   "cell_type": "code",
   "execution_count": null,
   "metadata": {},
   "outputs": [],
   "source": [
    "# youtube-dl --merge-output-format mp4 \"https://streamusea1su011.azureedge.net/2a552a43-a2db-42d0-85ec-b8b170f6b450/1-2crwnqiymwnza6bgnghe6xsqde.ism/manifest(format=mpd-time-csf)\""
   ]
  },
  {
   "cell_type": "code",
   "execution_count": 2,
   "metadata": {},
   "outputs": [
    {
     "data": {
      "text/plain": [
       "'asda\"&\"sadsad'"
      ]
     },
     "execution_count": 2,
     "metadata": {},
     "output_type": "execute_result"
    }
   ],
   "source": [
    "\"asda&sadsad\".replace(\"&\",\"\\\"&\\\"\")"
   ]
  },
  {
   "cell_type": "code",
   "execution_count": null,
   "metadata": {},
   "outputs": [],
   "source": []
  }
 ],
 "metadata": {
  "interpreter": {
   "hash": "2db524e06e9f5f4ffedc911c917cb75e12dbc923643829bf417064a77eb14d37"
  },
  "kernelspec": {
   "display_name": "Python 3",
   "language": "python",
   "name": "python3"
  },
  "language_info": {
   "codemirror_mode": {
    "name": "ipython",
    "version": 3
   },
   "file_extension": ".py",
   "mimetype": "text/x-python",
   "name": "python",
   "nbconvert_exporter": "python",
   "pygments_lexer": "ipython3",
   "version": "3.8.6"
  }
 },
 "nbformat": 4,
 "nbformat_minor": 2
}
