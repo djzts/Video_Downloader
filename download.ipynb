{
 "cells": [
  {
   "cell_type": "code",
   "execution_count": 1,
   "metadata": {},
   "outputs": [],
   "source": [
    "import os\n",
    "import ffmpeg\n",
    "#不管执行哪一个 下载程序都要执行这个框框的程序\n",
    "#执行方法 shift+回车/control+回车"
   ]
  },
  {
   "cell_type": "code",
   "execution_count": 11,
   "metadata": {},
   "outputs": [],
   "source": [
    "#UH Pan video\n",
    "file_path = os.getcwd()+'/urls.txt'\n",
    "#不要改\n",
    "\n",
    "url_links = [line.rstrip('\\n') for line in open(file_path)]\n",
    "#不要改\n",
    "\n",
    "\n",
    "for num , url_link in enumerate(url_links):\n",
    "    date_name_expand = url_link.split(\"/\")[-3]\n",
    "    date_name = date_name_expand.split(\".\")[0]\n",
    "    #save_name = \"video/output-\"+str(num)+\".mp4\"\n",
    "    if num%2:\n",
    "        save_name = \"video/\" + date_name +\"_note\"+\".mp4\"\n",
    "    else:\n",
    "        save_name = \"video/\" + date_name +\"_lecture\"+\".mp4\"\n",
    "    #print(save_name)\n",
    "    os.system('ffmpeg -i '+ url_link + ' -bsf:a aac_adtstoasc -vcodec copy -c copy -crf 50 ' + save_name)\n",
    "    #不要改（shift+回车）"
   ]
  },
  {
   "cell_type": "code",
   "execution_count": 2,
   "metadata": {},
   "outputs": [],
   "source": [
    "#video\n",
    "file_path = os.getcwd()+'/urls.txt'\n",
    "#不要改\n",
    "\n",
    "url_links = [line.rstrip('\\n') for line in open(file_path)]\n",
    "#不要改\n",
    "\n",
    "\n",
    "for num , url_link in enumerate(url_links):\n",
    "    save_name = \"video/output-\"+str(num)+\".mp4\"\n",
    "    #save_name = \"video/ATOM-178\"+str(num)+\".mp4\"\n",
    "    \n",
    "    os.system('ffmpeg -i '+ url_link + ' -bsf:a aac_adtstoasc -vcodec copy -c copy -crf 50 ' + save_name)\n",
    "    #不要改（shift+回车）\n",
    "    \n"
   ]
  },
  {
   "cell_type": "code",
   "execution_count": 4,
   "metadata": {},
   "outputs": [],
   "source": [
    "#字幕下载（注意字幕链接顺序要与视频链接的顺序一一对应）\n",
    "sub_file_path = os.getcwd()+'/subtitle_urls.txt'\n",
    "#不要改\n",
    "\n",
    "sub_url_links = [line.rstrip('\\n') for line in open(sub_file_path)]\n",
    "#不要改\n",
    "\n",
    "for num , sub_url_link in enumerate(sub_url_links):\n",
    "    save_name = \"output-\"+str(num)+\".srt\"\n",
    "    os.system('ffmpeg -i '+ sub_url_link + ' ' + save_name)\n",
    "    #不要改（shift+回车）"
   ]
  },
  {
   "cell_type": "code",
   "execution_count": 6,
   "metadata": {},
   "outputs": [],
   "source": [
    "#youtube 音乐下载（mp3）\n",
    "youtube_file_path = os.getcwd()+'/youtube_urls.txt'\n",
    "#不要改\n",
    "\n",
    "youtube_url_links = [line.rstrip('\\n') for line in open(youtube_file_path)]\n",
    "#不要改\n",
    "\n",
    "for num , youtube_url_link in enumerate(youtube_url_links):\n",
    "    save_name = \"output-\"+str(num)+\".srt\"\n",
    "    os.system('youtube-dl -x --audio-format mp3 '+ youtube_url_link)\n",
    "    #不要改（shift+回车）"
   ]
  },
  {
   "cell_type": "code",
   "execution_count": 2,
   "metadata": {},
   "outputs": [],
   "source": [
    "#youtube playlist 视频下载（mp4）\n",
    "playlist_file_path = os.getcwd()+'/playlist.txt'\n",
    "#不要改\n",
    "\n",
    "playlist_url_links = [line.rstrip('\\n') for line in open(playlist_file_path)]\n",
    "#不要改\n",
    "\n",
    "for num , playlist_url_link in enumerate(playlist_url_links):\n",
    "    os.system('youtube-dl -i --verbose '+ playlist_url_link)\n",
    "    #不要改（shift+回车）"
   ]
  },
  {
   "cell_type": "code",
   "execution_count": null,
   "metadata": {},
   "outputs": [],
   "source": [
    "#youtube playlist 字幕下载（srt）\n",
    "playlist_file_path = os.getcwd()+'/playlist.txt'\n",
    "#不要改\n",
    "\n",
    "playlist_url_links = [line.rstrip('\\n') for line in open(playlist_file_path)]\n",
    "#不要改\n",
    "\n",
    "for num , playlist_url_link in enumerate(playlist_url_links):\n",
    "    os.system('youtube-dl --write-auto-sub --skip-download '+ playlist_url_link)\n",
    "    #不要改（shift+回车）\n",
    "    #--write-sub                      Write subtitle file\n",
    "    #--write-auto-sub                 Write automatic subtitle file (YouTube only)\n",
    "    #--all-subs                       Download all the available subtitles of the video\n",
    "    #--list-subs                      List all available subtitles for the video\n",
    "    #--sub-format FORMAT              Subtitle format, accepts formats preference, for example: \"srt\" or \"ass/srt/best\"\n",
    "    #--sub-lang LANGS                 Languages of the subtitles to download (optional) separated by commas, use IETF language tags like 'en,pt'"
   ]
  },
  {
   "cell_type": "code",
   "execution_count": null,
   "metadata": {},
   "outputs": [],
   "source": [
    "#note 腾讯课堂的url  & 字符用 \"&\" 字符代替，不然会报错\n",
    "#note 其他视频网站的.m3u8 文件后面的后缀需要保留，否则会报错\n",
    "#https://m10.music.126.net/20200930035440/0b14634a6624c3e4ca61ae255b7cd20b/yyaac/0f59/510e/565b/832d49abecfdd84aa807a1e7d525957a.m4a"
   ]
  },
  {
   "cell_type": "code",
   "execution_count": 8,
   "metadata": {},
   "outputs": [],
   "source": [
    "# music\n",
    "music_file_path = os.getcwd()+'\\\\music_urls.txt'\n",
    "\n",
    "music_url_links = [line.rstrip('\\n') for line in open(music_file_path)]\n",
    "\n",
    "for num , music_url_link in enumerate(music_url_links):\n",
    "    #music_save_name = music_url_link.split('/')[-1]+'.mp3'    #这里的name 是umn视频专用的\n",
    "    music_save_name = music_url_link.split('/')[-1]\n",
    "    #music_save_name = \"output\"+str(num)+\".mp3\"\n",
    "    #save_name = \"2020交通项目评估与管理第\"+str(num+6)+\"讲.mp4\"\n",
    "    os.system('ffmpeg -i '+ music_url_link + ' -acodec copy -c copy -crf 50 ' + music_save_name)\n"
   ]
  },
  {
   "cell_type": "code",
   "execution_count": 2,
   "metadata": {},
   "outputs": [],
   "source": [
    "#bilibili Aiqiyi etc\n",
    "file_path = os.getcwd()+'/urls.txt'\n",
    "#不要改\n",
    "\n",
    "url_links = [line.rstrip('\\n') for line in open(file_path)]\n",
    "#不要改\n",
    "\n",
    "\n",
    "for num , url_link in enumerate(url_links):\n",
    "    save_name = \"output-\"+str(num)+\".mp4\"\n",
    "    os.system('you-get '+ url_link)\n",
    "    #不要改（shift+回车）"
   ]
  },
  {
   "cell_type": "code",
   "execution_count": null,
   "metadata": {},
   "outputs": [],
   "source": [
    "# youtube-dl --merge-output-format mp4 \"https://streamusea1su011.azureedge.net/2a552a43-a2db-42d0-85ec-b8b170f6b450/1-2crwnqiymwnza6bgnghe6xsqde.ism/manifest(format=mpd-time-csf)\""
   ]
  }
 ],
 "metadata": {
  "kernelspec": {
   "display_name": "Python 3",
   "language": "python",
   "name": "python3"
  },
  "language_info": {
   "codemirror_mode": {
    "name": "ipython",
    "version": 3
   },
   "file_extension": ".py",
   "mimetype": "text/x-python",
   "name": "python",
   "nbconvert_exporter": "python",
   "pygments_lexer": "ipython3",
   "version": "3.8.6"
  }
 },
 "nbformat": 4,
 "nbformat_minor": 2
}
